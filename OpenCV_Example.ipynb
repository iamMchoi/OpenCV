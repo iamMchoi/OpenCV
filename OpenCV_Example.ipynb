{
  "nbformat": 4,
  "nbformat_minor": 0,
  "metadata": {
    "colab": {
      "name": "OpenCV Example.ipynb",
      "provenance": [],
      "authorship_tag": "ABX9TyMf6FDfRZmLCsgcRTqxTqz+",
      "include_colab_link": true
    },
    "kernelspec": {
      "name": "python3",
      "display_name": "Python 3"
    }
  },
  "cells": [
    {
      "cell_type": "markdown",
      "metadata": {
        "id": "view-in-github",
        "colab_type": "text"
      },
      "source": [
        "<a href=\"https://colab.research.google.com/github/iamMchoi/OpenCV/blob/master/OpenCV_Example.ipynb\" target=\"_parent\"><img src=\"https://colab.research.google.com/assets/colab-badge.svg\" alt=\"Open In Colab\"/></a>"
      ]
    },
    {
      "cell_type": "code",
      "metadata": {
        "id": "B6O7Y_HA5PY6",
        "colab_type": "code",
        "colab": {}
      },
      "source": [
        "import cv2  #cv2.imread is read file as BGR format. not RGB."
      ],
      "execution_count": 0,
      "outputs": []
    },
    {
      "cell_type": "markdown",
      "metadata": {
        "id": "K9inClY7-szR",
        "colab_type": "text"
      },
      "source": [
        "##Show image use OpenCV & Matplotlib"
      ]
    },
    {
      "cell_type": "code",
      "metadata": {
        "id": "kIBELZut-sJW",
        "colab_type": "code",
        "colab": {}
      },
      "source": [
        "from matplotlib import pyplot as pyplot\n",
        "\n",
        "img = cv2.imread('happyfish.jpg', 1)    #When read file, the format is BGR.\n",
        "img = cv2.cvtColor(img, cv2.COLOR_BGR2RGB)#Have to convert to RGB,because Matplotilbe is RGB format.\n",
        "plt.imshow(img)\n",
        "plt.show()"
      ],
      "execution_count": 0,
      "outputs": []
    },
    {
      "cell_type": "markdown",
      "metadata": {
        "id": "2aF6iqC17SO-",
        "colab_type": "text"
      },
      "source": [
        "## Display frame from camera or Video"
      ]
    },
    {
      "cell_type": "code",
      "metadata": {
        "id": "qifIQ3_P54hK",
        "colab_type": "code",
        "colab": {}
      },
      "source": [
        "cap = cv2.VideoCapture(0) #Select which camera \n",
        "#cap = cv2.VideoCapture(\"test.mp4\") #Select video file\n",
        "\n",
        "while(cap.isOpened()):#reading camera's frame\n",
        "  succeess, frame = cap.read() #return jugement(success or not), frame from camera\n",
        "\n",
        "  if success:\n",
        "    cv2.imshow('Camera Whindow',frame) #first : window's name , Second: frame\n",
        "\n",
        "    #If press ESC, exit\n",
        "    key = cv2.waitKey(1) & 0xFF \n",
        "    if (key == 27):\n",
        "      break\n",
        "\n",
        "cap.release()   #stop to use camera\n",
        "cv2.destroyAllWindows() # close windows\n"
      ],
      "execution_count": 0,
      "outputs": []
    },
    {
      "cell_type": "markdown",
      "metadata": {
        "id": "7OApP1_07baW",
        "colab_type": "text"
      },
      "source": [
        "##How to save frame as a file , get  width,height of frame"
      ]
    },
    {
      "cell_type": "code",
      "metadata": {
        "id": "PDx25j8m7X_4",
        "colab_type": "code",
        "colab": {}
      },
      "source": [
        "cap = cv2.VideoCapture(0) \n",
        "\n",
        "#Check frame size\n",
        "width = cap.get(cv2.CAP_PROP_FRAME_WIDTH)   #Get frame width from camera\n",
        "height = cap.get(cv2.CAP_PROP_FRAME_HEIGHT) #Get frame height from camera\n",
        "print(\"size: {0} x {1}\".format(width, height))\n",
        " \n",
        "#Select File name , video format & frame to Save frame\n",
        "fourcc = cv2.VideoWriter_fourcc(*'XVID')  #select video format to save\n",
        "writer = cv2.VideoWriter('test.avi', fourcc, 24, (int(width), int(height))) #name,format,frame,size to save\n",
        " \n",
        "while(cap.isOpened()):\n",
        "    success, frame = cap.read()\n",
        "\n",
        "    if success:\n",
        "        writer.write(frame)  # Save frame as file\n",
        "        cv2.imshow('Video Window', frame) #Just show frame \n",
        " \n",
        "        # Press Q to exit\n",
        "        if cv2.waitKey(1) & 0xFF == ord('q'):  \n",
        "            break\n",
        "    else:\n",
        "        break\n",
        " \n",
        "cap.release()\n",
        "writer.release()  #Stop save frame\n",
        "cv2.destroyAllWindows()"
      ],
      "execution_count": 0,
      "outputs": []
    }
  ]
}